{
  "nbformat": 4,
  "nbformat_minor": 0,
  "metadata": {
    "colab": {
      "name": "Untitled0.ipynb",
      "provenance": [],
      "authorship_tag": "ABX9TyM3UubLpBs8ZKMuko5A+xIg",
      "include_colab_link": true
    },
    "kernelspec": {
      "name": "python3",
      "display_name": "Python 3"
    }
  },
  "cells": [
    {
      "cell_type": "markdown",
      "metadata": {
        "id": "view-in-github",
        "colab_type": "text"
      },
      "source": [
        "<a href=\"https://colab.research.google.com/github/babybear0505/babybaer0505/blob/master/Untitled0.ipynb\" target=\"_parent\"><img src=\"https://colab.research.google.com/assets/colab-badge.svg\" alt=\"Open In Colab\"/></a>"
      ]
    },
    {
      "cell_type": "code",
      "metadata": {
        "id": "a8q1K00__dRt",
        "colab_type": "code",
        "colab": {}
      },
      "source": [
        ""
      ],
      "execution_count": 0,
      "outputs": []
    },
    {
      "cell_type": "markdown",
      "metadata": {
        "id": "xc44budp_eoa",
        "colab_type": "text"
      },
      "source": [
        ""
      ]
    },
    {
      "cell_type": "code",
      "metadata": {
        "id": "-322XBRB_foE",
        "colab_type": "code",
        "colab": {}
      },
      "source": [
        "print('코드 셀')"
      ],
      "execution_count": 0,
      "outputs": []
    },
    {
      "cell_type": "markdown",
      "metadata": {
        "id": "ofDFhKIb_jez",
        "colab_type": "text"
      },
      "source": [
        "헤더(제목)\t#(1) ~ ######(6)\t#제목   \n",
        "######제목\n",
        "강조(볼드)\t**(글씨)**\n",
        "__(글씨)__\t**강조해주세요**\n",
        "__강조해주세요__\n",
        "취소선\t~~(글씨)~~\t세일 전 ~~40,000원~~\n",
        "이탤릭체\t*(글씨)*\n",
        "_(글씨)_\t*이탤릭체*\n",
        "_강조해주세요_\n",
        "번호가 없는 리스트\t* (글씨)\n",
        "+ (글씨)\n",
        "- (글씨)\n",
        "모양은 모두 똑같음\t* 리스트1\n",
        "  * 하위리스트\n",
        "+ 리스트2\n",
        "  + 하위리스트\n",
        "번호가 있는 리스트\t1. (글씨)\n",
        "2. (글씨)\n",
        "3. (글씨)\t1. 메뉴를 정하세요\n",
        "2. 포장 하실 것가요?\n",
        "3. 결제는 어떻게 하시겠어요?\n",
        "BlockQuote(블럭인용문자)\t> (글씨)\t> 왜 그래, 맥시무스\n",
        "수평선\t* * *\n",
        "***\n",
        "*****\n",
        "- - -\n",
        "---------------\t* * *\n",
        "***\n",
        "*****\n",
        "- - -\n",
        "---------------\n",
        "링크\t[title](link)\t[Google](https://google.com, \"google link\")\n",
        "이미지\t![Alt text](/path/to/img.jpg)\t![Alt text](/path/to/img.jpg \"name\")"
      ]
    },
    {
      "cell_type": "code",
      "metadata": {
        "id": "yKcb3IbDAK0R",
        "colab_type": "code",
        "colab": {}
      },
      "source": [
        ""
      ],
      "execution_count": 0,
      "outputs": []
    },
    {
      "cell_type": "markdown",
      "metadata": {
        "id": "_eCKeRWsALkb",
        "colab_type": "text"
      },
      "source": [
        ""
      ]
    },
    {
      "cell_type": "code",
      "metadata": {
        "id": "pT4w1v52AOaP",
        "colab_type": "code",
        "colab": {}
      },
      "source": [
        "def hello(name):\n",
        "  return f'환영합니다. {name}님!'\n",
        "\n"
      ],
      "execution_count": 0,
      "outputs": []
    },
    {
      "cell_type": "markdown",
      "metadata": {
        "id": "3sUBwlJDAb4K",
        "colab_type": "text"
      },
      "source": [
        ""
      ]
    },
    {
      "cell_type": "code",
      "metadata": {
        "id": "gpSLhGNSAcqF",
        "colab_type": "code",
        "colab": {
          "base_uri": "https://localhost:8080/",
          "height": 53
        },
        "outputId": "303d021a-40db-4f08-9ed2-9fce0e5c3502"
      },
      "source": [
        "name = input ('이름을 입력해주세요.')\n",
        "hello(name)\n"
      ],
      "execution_count": 2,
      "outputs": [
        {
          "output_type": "stream",
          "text": [
            "이름을 입력해주세요.안녕?\n"
          ],
          "name": "stdout"
        },
        {
          "output_type": "execute_result",
          "data": {
            "text/plain": [
              "'환영합니다. 안녕?님!'"
            ]
          },
          "metadata": {
            "tags": []
          },
          "execution_count": 2
        }
      ]
    },
    {
      "cell_type": "markdown",
      "metadata": {
        "id": "TOHgfguLAawi",
        "colab_type": "text"
      },
      "source": [
        ""
      ]
    }
  ]
}